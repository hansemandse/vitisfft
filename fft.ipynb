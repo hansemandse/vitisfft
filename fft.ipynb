{
 "cells": [
  {
   "cell_type": "code",
   "execution_count": null,
   "metadata": {},
   "outputs": [],
   "source": [
    "# Note, requires running fft_alt_t.cpp tests to generate data files\n",
    "import numpy as np\n",
    "import pandas as pd\n",
    "import matplotlib.pyplot as plt\n",
    "\n",
    "# Set the path to the simulation results\n",
    "results_path = './'\n",
    "\n",
    "# Reference parameters\n",
    "signal_frequency   = 200.0\n",
    "sampling_frequency = 44100.0\n",
    "N = 1024\n",
    "time_length = N / sampling_frequency\n",
    "time = np.linspace(0, time_length, N)"
   ]
  },
  {
   "cell_type": "markdown",
   "metadata": {},
   "source": [
    "# Single Complex Exponential and Complex FFT"
   ]
  },
  {
   "cell_type": "code",
   "execution_count": null,
   "metadata": {},
   "outputs": [],
   "source": [
    "# Load the data\n",
    "data = pd.read_csv(f'{results_path}cfft.csv')\n",
    "\n",
    "# Format the sine data as complex numbers\n",
    "sine = np.array(data['Sine'][::2]) + 1j * np.array(data['Sine'][1::2])\n",
    "\n",
    "# Generate a reference signal\n",
    "time = np.linspace(0, time_length, N)\n",
    "signal = np.exp(1j*2*np.pi*signal_frequency*time)\n",
    "\n",
    "# Zero-pad the reference to the next power of two\n",
    "signal = np.pad(signal, (0, int(pow(2, np.ceil(np.log(N)/np.log(2)))) - N), mode='constant')\n",
    "\n",
    "# Plot the sinusoid vs its reference\n",
    "plt.plot(np.real(sine), color='b')\n",
    "plt.plot(np.real(signal), color='r')\n",
    "plt.grid()\n",
    "plt.show()\n",
    "\n",
    "plt.plot(np.imag(sine), color='b')\n",
    "plt.plot(np.imag(signal), color='r')\n",
    "plt.grid()\n",
    "plt.show()"
   ]
  },
  {
   "cell_type": "code",
   "execution_count": null,
   "metadata": {},
   "outputs": [],
   "source": [
    "# Format the CFFT as complex numbers\n",
    "cfft = np.array(data['CFFT'][::2]) + 1j * np.array(data['CFFT'][1::2])\n",
    "\n",
    "# Compute the CFFT of the reference and normalize it\n",
    "signal_fft = np.fft.fft(signal)\n",
    "signal_fft /= N\n",
    "fft_bins = np.fft.fftfreq(N, 1 / sampling_frequency)\n",
    "\n",
    "# Pad the CFFT data to the length of the reference\n",
    "cfft = np.pad(cfft, (0, len(signal_fft) - len(cfft)), mode='constant')\n",
    "\n",
    "# Plot the results against the baseline\n",
    "plt.plot(fft_bins, abs(cfft), color='b')\n",
    "plt.plot(fft_bins, abs(signal_fft), color='r')\n",
    "plt.grid()\n",
    "plt.show()\n",
    "\n",
    "plt.plot(fft_bins, abs(cfft) - abs(signal_fft))\n",
    "plt.grid()\n",
    "plt.show()"
   ]
  },
  {
   "cell_type": "code",
   "execution_count": null,
   "metadata": {},
   "outputs": [],
   "source": [
    "# Find the maxima\n",
    "print('CFFT max      :', fft_bins[np.argmax(abs(cfft))], 'at index', np.argmax(abs(cfft)))\n",
    "print('Reference max :', fft_bins[np.argmax(abs(signal_fft))], 'at index', np.argmax(abs(signal_fft)))\n",
    "\n",
    "# Should be at position\n",
    "pos = round(signal_frequency / (sampling_frequency / N))\n",
    "print('Should be at  :', pos, 'or', np.mod(-pos, N))"
   ]
  },
  {
   "cell_type": "code",
   "execution_count": null,
   "metadata": {},
   "outputs": [],
   "source": [
    "# Format the CIFFT as complex numbers\n",
    "cifft = np.array(data['CIFFT'][::2]) + 1j * np.array(data['CIFFT'][1::2])\n",
    "\n",
    "# Compute the CIFFT of the reference and normalize it\n",
    "signal_ifft = np.fft.ifft(signal_fft) * N\n",
    "\n",
    "# Pad the CIFFT data to the length of the reference\n",
    "cifft = np.pad(cifft, (0, len(signal_ifft) - len(cifft)), mode='constant')\n",
    "\n",
    "# Plot the results against the baseline\n",
    "plt.plot(np.real(cifft), color='b')\n",
    "plt.plot(np.real(signal_ifft), color='r')\n",
    "plt.grid()\n",
    "plt.show()\n",
    "\n",
    "plt.plot(np.imag(cifft), color='b')\n",
    "plt.plot(np.imag(signal_ifft), color='r')\n",
    "plt.grid()\n",
    "plt.show()\n",
    "\n",
    "plt.plot(np.real(cifft) - np.real(signal), color='b')\n",
    "plt.plot(np.real(signal_ifft) - np.real(signal), color='r')\n",
    "plt.grid()\n",
    "plt.show()\n",
    "\n",
    "plt.plot(np.imag(cifft) - np.imag(signal), color='b')\n",
    "plt.plot(np.imag(signal_ifft) - np.imag(signal), color='r')\n",
    "plt.grid()\n",
    "plt.show()"
   ]
  }
 ],
 "metadata": {
  "kernelspec": {
   "display_name": "Python 3",
   "language": "python",
   "name": "python3"
  },
  "language_info": {
   "codemirror_mode": {
    "name": "ipython",
    "version": 3
   },
   "file_extension": ".py",
   "mimetype": "text/x-python",
   "name": "python",
   "nbconvert_exporter": "python",
   "pygments_lexer": "ipython3",
   "version": "3.8.10"
  }
 },
 "nbformat": 4,
 "nbformat_minor": 2
}

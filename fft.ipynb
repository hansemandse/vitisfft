{
 "cells": [
  {
   "cell_type": "code",
   "execution_count": null,
   "metadata": {},
   "outputs": [],
   "source": [
    "# Note, requires running fft_alt_t.cpp tests to generate data files\n",
    "import numpy as np\n",
    "import pandas as pd\n",
    "import matplotlib.pyplot as plt\n",
    "\n",
    "# Set the path to the simulation results\n",
    "results_path = './'"
   ]
  },
  {
   "cell_type": "markdown",
   "metadata": {},
   "source": [
    "# Single Sinusoid and Real FFT"
   ]
  },
  {
   "cell_type": "code",
   "execution_count": null,
   "metadata": {},
   "outputs": [],
   "source": [
    "# Load the data\n",
    "data = pd.read_csv(f'{results_path}rfft.csv')\n",
    "\n",
    "# Generate a reference signal\n",
    "signal_frequency   = 200.0\n",
    "sampling_frequency = 44100.0\n",
    "N = 1024\n",
    "time_length = N / sampling_frequency\n",
    "time = np.linspace(0, time_length, N)\n",
    "signal = np.sin(2*np.pi*signal_frequency*time)\n",
    "\n",
    "# Zero-pad the reference to the next power of two\n",
    "signal = np.pad(signal, (0, int(pow(2, np.ceil(np.log(N)/np.log(2)))) - N), mode='constant')\n",
    "\n",
    "# Plot the sinusoid vs its reference\n",
    "plt.plot(data['Sine'][:N], color='b')\n",
    "plt.plot(signal, color='r')\n",
    "plt.grid()\n",
    "plt.show()"
   ]
  },
  {
   "cell_type": "code",
   "execution_count": null,
   "metadata": {},
   "outputs": [],
   "source": [
    "# Format the RFFT data as complex numbers\n",
    "rfft = np.array(data['RFFT'][:N:2]) + 1j * np.array(data['RFFT'][1:N:2])\n",
    "\n",
    "# Compute the RFFT of the reference and normalize it\n",
    "signal_fft = np.fft.fft(signal)\n",
    "signal_fft /= N\n",
    "fft_bins = np.fft.fftfreq(N, 1 / sampling_frequency)\n",
    "\n",
    "# Pad the RFFT data to the length of the reference\n",
    "rfft = np.pad(rfft, (0, len(signal_fft) - len(rfft)), mode='constant')\n",
    "\n",
    "# Plot the results against the reference\n",
    "plt.plot(fft_bins, abs(rfft), color='b')\n",
    "plt.plot(fft_bins, abs(signal_fft), color='r')\n",
    "plt.grid()\n",
    "plt.show()\n",
    "\n",
    "plt.plot(fft_bins, abs(rfft) - abs(signal_fft))\n",
    "plt.grid()\n",
    "plt.show()"
   ]
  },
  {
   "cell_type": "code",
   "execution_count": null,
   "metadata": {},
   "outputs": [],
   "source": [
    "# Load the IRFFT data\n",
    "irfft = data['IRFFT'][:N]\n",
    "\n",
    "# Compute the IRFFT of the reference and normalize it\n",
    "signal_ifft = np.real(np.fft.ifft(signal_fft)) * N\n",
    "\n",
    "# Plot the results against the reference\n",
    "plt.plot(irfft, color='b')\n",
    "plt.plot(signal_ifft, color='r')\n",
    "plt.grid()\n",
    "plt.show()\n",
    "\n",
    "plt.plot(irfft - signal, color='b')\n",
    "plt.plot(signal_ifft - signal, color='r')\n",
    "plt.grid()\n",
    "plt.show()"
   ]
  },
  {
   "cell_type": "code",
   "execution_count": null,
   "metadata": {},
   "outputs": [],
   "source": [
    "# Find the maxima\n",
    "print('RFFT max      :', fft_bins[np.argmax(abs(rfft))], 'at index', np.argmax(abs(rfft)))\n",
    "print('Reference max :', fft_bins[np.argmax(abs(signal_fft))], 'at index', np.argmax(abs(signal_fft)))\n",
    "\n",
    "# Should be at position\n",
    "pos = round(signal_frequency / (sampling_frequency / N))\n",
    "print('Should be at  :', pos, 'or', np.mod(-pos, N))"
   ]
  },
  {
   "cell_type": "markdown",
   "metadata": {},
   "source": [
    "# Single Complex Exponential and Complex FFT"
   ]
  },
  {
   "cell_type": "code",
   "execution_count": null,
   "metadata": {},
   "outputs": [],
   "source": [
    "# Load the data\n",
    "data = pd.read_csv(f'{results_path}cfft.csv')\n",
    "\n",
    "# Format the sine data as complex numbers\n",
    "sine = np.array(data['Sine'][::2]) + 1j * np.array(data['Sine'][1::2])\n",
    "\n",
    "# Generate a reference signal\n",
    "time = np.linspace(0, time_length, N)\n",
    "signal = np.exp(1j*2*np.pi*signal_frequency*time)\n",
    "\n",
    "# Zero-pad the reference to the next power of two\n",
    "signal = np.pad(signal, (0, int(pow(2, np.ceil(np.log(N)/np.log(2)))) - N), mode='constant')\n",
    "\n",
    "# Plot the sinusoid vs its reference\n",
    "plt.plot(np.real(sine), color='b')\n",
    "plt.plot(np.real(signal), color='r')\n",
    "plt.grid()\n",
    "plt.show()\n",
    "\n",
    "plt.plot(np.imag(sine), color='b')\n",
    "plt.plot(np.imag(signal), color='r')\n",
    "plt.grid()\n",
    "plt.show()"
   ]
  },
  {
   "cell_type": "code",
   "execution_count": null,
   "metadata": {},
   "outputs": [],
   "source": [
    "# Format the CFFT as complex numbers\n",
    "cfft = np.array(data['CFFT'][::2]) + 1j * np.array(data['CFFT'][1::2])\n",
    "\n",
    "# Compute the CFFT of the reference and normalize it\n",
    "signal_fft = np.fft.fft(signal)\n",
    "signal_fft /= N\n",
    "fft_bins = np.fft.fftfreq(N, 1 / sampling_frequency)\n",
    "\n",
    "# Pad the CFFT data to the length of the reference\n",
    "cfft = np.pad(cfft, (0, len(signal_fft) - len(cfft)), mode='constant')\n",
    "\n",
    "# Plot the results against the baseline\n",
    "plt.plot(fft_bins, abs(cfft), color='b')\n",
    "plt.plot(fft_bins, abs(signal_fft), color='r')\n",
    "plt.grid()\n",
    "plt.show()\n",
    "\n",
    "plt.plot(fft_bins, abs(cfft) - abs(signal_fft))\n",
    "plt.grid()\n",
    "plt.show()"
   ]
  },
  {
   "cell_type": "code",
   "execution_count": null,
   "metadata": {},
   "outputs": [],
   "source": [
    "# Find the maxima\n",
    "print('CFFT max      :', fft_bins[np.argmax(abs(cfft))], 'at index', np.argmax(abs(cfft)))\n",
    "print('Reference max :', fft_bins[np.argmax(abs(signal_fft))], 'at index', np.argmax(abs(signal_fft)))\n",
    "\n",
    "# Should be at position\n",
    "pos = round(signal_frequency / (sampling_frequency / N))\n",
    "print('Should be at  :', pos, 'or', np.mod(-pos, N))"
   ]
  },
  {
   "cell_type": "code",
   "execution_count": null,
   "metadata": {},
   "outputs": [],
   "source": [
    "# Format the CIFFT as complex numbers\n",
    "cifft = np.array(data['CIFFT'][::2]) + 1j * np.array(data['CIFFT'][1::2])\n",
    "\n",
    "# Compute the CIFFT of the reference and normalize it\n",
    "signal_ifft = np.fft.ifft(signal_fft) * N\n",
    "\n",
    "# Pad the CIFFT data to the length of the reference\n",
    "cifft = np.pad(cifft, (0, len(signal_ifft) - len(cifft)), mode='constant')\n",
    "\n",
    "# Plot the results against the baseline\n",
    "plt.plot(np.real(cifft), color='b')\n",
    "plt.plot(np.real(signal_ifft), color='r')\n",
    "plt.grid()\n",
    "plt.show()\n",
    "\n",
    "plt.plot(np.imag(cifft), color='b')\n",
    "plt.plot(np.imag(signal_ifft), color='r')\n",
    "plt.grid()\n",
    "plt.show()\n",
    "\n",
    "plt.plot(np.real(cifft) - np.real(signal), color='b')\n",
    "plt.plot(np.real(signal_ifft) - np.real(signal), color='r')\n",
    "plt.grid()\n",
    "plt.show()\n",
    "\n",
    "plt.plot(np.imag(cifft) - np.imag(signal), color='b')\n",
    "plt.plot(np.imag(signal_ifft) - np.imag(signal), color='r')\n",
    "plt.grid()\n",
    "plt.show()"
   ]
  },
  {
   "cell_type": "markdown",
   "metadata": {},
   "source": [
    "# Three Sinusoids and Real FFT"
   ]
  },
  {
   "cell_type": "code",
   "execution_count": null,
   "metadata": {},
   "outputs": [],
   "source": [
    "# Load the data\n",
    "data = pd.read_csv(f'{results_path}rfft3.csv')\n",
    "\n",
    "# Generate a reference signal\n",
    "signal_frequency2 = 750.0\n",
    "signal_frequency3 = 1023.0\n",
    "signal = (np.sin(2*np.pi*signal_frequency*time) + np.sin(2*np.pi*signal_frequency2*time) + np.sin(2*np.pi*signal_frequency3*time)) / 3\n",
    "\n",
    "# Zero-pad the reference to the next power of two\n",
    "signal = np.pad(signal, (0, int(pow(2, np.ceil(np.log(N)/np.log(2)))) - N), mode='constant')\n",
    "\n",
    "# Plot the sinusoid vs its reference\n",
    "plt.plot(data['Sine'][:N], color='b')\n",
    "plt.plot(signal, color='r')\n",
    "plt.grid()\n",
    "plt.show()"
   ]
  },
  {
   "cell_type": "code",
   "execution_count": null,
   "metadata": {},
   "outputs": [],
   "source": [
    "# Format the RFFT data as complex numbers\n",
    "rfft = np.array(data['RFFT'][::2]) + 1j * np.array(data['RFFT'][1::2])\n",
    "\n",
    "# Compute the RFFT of the reference and normalize it\n",
    "signal_fft = np.fft.fft(signal)\n",
    "signal_fft /= N\n",
    "fft_bins = np.fft.fftfreq(N, 1 / sampling_frequency)\n",
    "\n",
    "# Pad the RFFT data to the length of the reference\n",
    "rfft = np.pad(rfft, (0, len(signal_fft) - len(rfft)), mode='constant')\n",
    "\n",
    "# Plot the results against the reference\n",
    "plt.plot(fft_bins, abs(rfft), color='b')\n",
    "plt.plot(fft_bins, abs(signal_fft), color='r')\n",
    "plt.grid()\n",
    "plt.show()\n",
    "\n",
    "plt.plot(fft_bins, abs(rfft) - abs(signal_fft))\n",
    "plt.grid()\n",
    "plt.show()"
   ]
  },
  {
   "cell_type": "code",
   "execution_count": null,
   "metadata": {},
   "outputs": [],
   "source": [
    "# Load the IRFFT data\n",
    "irfft = data['IRFFT'][:N]\n",
    "\n",
    "# Compute the IRFFT of the reference and normalize it\n",
    "signal_ifft = np.real(np.fft.ifft(signal_fft)) * N\n",
    "\n",
    "# Plot the results against the reference\n",
    "plt.plot(irfft, color='b')\n",
    "plt.plot(signal_ifft, color='r')\n",
    "plt.grid()\n",
    "plt.show()\n",
    "\n",
    "plt.plot(irfft - signal, color='b')\n",
    "plt.plot(signal_ifft - signal, color='r')\n",
    "plt.grid()\n",
    "plt.show()"
   ]
  },
  {
   "cell_type": "code",
   "execution_count": null,
   "metadata": {},
   "outputs": [],
   "source": [
    "# Find the maxima\n",
    "print('RFFT maxs     :', fft_bins[np.argpartition(abs(rfft), -4)[-6:]], 'at indices', np.argpartition(abs(rfft), -4)[-6:])\n",
    "print('Reference maxs:', fft_bins[np.argpartition(abs(signal_fft), -4)[-6:]], 'at indices', np.argpartition(abs(signal_fft), -4)[-3:])\n",
    "\n",
    "# Should be at position\n",
    "poses = [round(f / (sampling_frequency / N)) for f in [signal_frequency, signal_frequency2, signal_frequency3]]\n",
    "print('Should be at  :', poses, 'or', [np.mod(-pos, N) for pos in reversed(poses)])"
   ]
  }
 ],
 "metadata": {
  "kernelspec": {
   "display_name": "Python 3",
   "language": "python",
   "name": "python3"
  },
  "language_info": {
   "codemirror_mode": {
    "name": "ipython",
    "version": 3
   },
   "file_extension": ".py",
   "mimetype": "text/x-python",
   "name": "python",
   "nbconvert_exporter": "python",
   "pygments_lexer": "ipython3",
   "version": "3.8.10"
  }
 },
 "nbformat": 4,
 "nbformat_minor": 2
}
